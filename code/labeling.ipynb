{
 "cells": [
  {
   "cell_type": "markdown",
   "id": "140d2873",
   "metadata": {},
   "source": [
    "# For labeling images\n",
    "\n",
    "Step through the Python Notebook below. Currently, creates a series folder - 'Tensorflow/labelimg', clones the associated repo, installs, and opens labelImg.\n",
    "\n",
    "##### References:\n",
    "https://github.com/heartexlabs/labelImg"
   ]
  },
  {
   "cell_type": "code",
   "execution_count": 2,
   "id": "b5136d1d",
   "metadata": {},
   "outputs": [
    {
     "name": "stdout",
     "output_type": "stream",
     "text": [
      "Collecting pyqt5"
     ]
    },
    {
     "name": "stderr",
     "output_type": "stream",
     "text": [
      "ERROR: pip's dependency resolver does not currently take into account all the packages that are installed. This behaviour is the source of the following dependency conflicts.\n",
      "object-detection 0.1 requires apache-beam, which is not installed.\n",
      "object-detection 0.1 requires avro-python3, which is not installed.\n",
      "object-detection 0.1 requires contextlib2, which is not installed.\n",
      "object-detection 0.1 requires Cython, which is not installed.\n",
      "object-detection 0.1 requires lvis, which is not installed.\n",
      "object-detection 0.1 requires pandas, which is not installed.\n",
      "object-detection 0.1 requires pycocotools, which is not installed.\n",
      "sacrebleu 2.2.0 requires portalocker, which is not installed.\n",
      "sacrebleu 2.2.0 requires regex, which is not installed.\n",
      "sacrebleu 2.2.0 requires tabulate>=0.8.9, which is not installed.\n",
      "tf-models-official 2.10.0 requires Cython, which is not installed.\n",
      "tf-models-official 2.10.0 requires gin-config, which is not installed.\n",
      "tf-models-official 2.10.0 requires google-api-python-client>=1.6.7, which is not installed.\n",
      "tf-models-official 2.10.0 requires immutabledict, which is not installed.\n",
      "tf-models-official 2.10.0 requires kaggle>=1.3.9, which is not installed.\n",
      "tf-models-official 2.10.0 requires oauth2client, which is not installed.\n",
      "tf-models-official 2.10.0 requires opencv-python-headless==4.5.2.52, which is not installed.\n",
      "tf-models-official 2.10.0 requires pandas>=0.22.0, which is not installed.\n",
      "tf-models-official 2.10.0 requires psutil>=5.4.3, which is not installed.\n",
      "tf-models-official 2.10.0 requires py-cpuinfo>=3.3.0, which is not installed.\n",
      "tf-models-official 2.10.0 requires pycocotools, which is not installed.\n",
      "tf-models-official 2.10.0 requires sentencepiece, which is not installed.\n",
      "tf-models-official 2.10.0 requires seqeval, which is not installed.\n",
      "tf-models-official 2.10.0 requires tensorflow-addons, which is not installed.\n",
      "tf-models-official 2.10.0 requires tensorflow-datasets, which is not installed.\n",
      "tf-models-official 2.10.0 requires tensorflow-hub>=0.6.0, which is not installed.\n",
      "tf-models-official 2.10.0 requires tensorflow-model-optimization>=0.4.1, which is not installed.\n",
      "tf-models-official 2.10.0 requires tensorflow-text~=2.10.0, which is not installed.\n",
      "object-detection 0.1 requires pyparsing==2.4.7, but you have pyparsing 3.0.9 which is incompatible.\n",
      "tf-models-official 2.10.0 requires numpy>=1.20, but you have numpy 1.19.5 which is incompatible.\n",
      "tf-models-official 2.10.0 requires pyyaml<6.0,>=5.1, but you have pyyaml 6.0 which is incompatible.\n",
      "tf-models-official 2.10.0 requires tensorflow~=2.10.0, but you have tensorflow 2.6.2 which is incompatible.\n"
     ]
    },
    {
     "name": "stdout",
     "output_type": "stream",
     "text": [
      "\n",
      "  Downloading PyQt5-5.15.6-cp36-abi3-win_amd64.whl (6.7 MB)\n",
      "Collecting lxml\n",
      "  Downloading lxml-4.9.1-cp36-cp36m-win_amd64.whl (3.7 MB)\n",
      "Collecting PyQt5-sip<13,>=12.8\n",
      "  Downloading PyQt5_sip-12.9.1-cp36-cp36m-win_amd64.whl (83 kB)\n",
      "Collecting PyQt5-Qt5>=5.15.2\n",
      "  Downloading PyQt5_Qt5-5.15.2-py3-none-win_amd64.whl (50.1 MB)\n",
      "Installing collected packages: PyQt5-sip, PyQt5-Qt5, pyqt5, lxml\n",
      "Successfully installed PyQt5-Qt5-5.15.2 PyQt5-sip-12.9.1 lxml-4.9.1 pyqt5-5.15.6\n"
     ]
    }
   ],
   "source": [
    "!pip install --upgrade pyqt5 lxml"
   ]
  },
  {
   "cell_type": "code",
   "execution_count": 4,
   "id": "4f9f310a",
   "metadata": {},
   "outputs": [],
   "source": [
    "import os"
   ]
  },
  {
   "cell_type": "code",
   "execution_count": 5,
   "id": "1c90279d",
   "metadata": {
    "scrolled": true
   },
   "outputs": [],
   "source": [
    "LABELIMG_PATH = os.path.join('Tensorflow', 'labelimg')"
   ]
  },
  {
   "cell_type": "code",
   "execution_count": 6,
   "id": "4b4a1811",
   "metadata": {},
   "outputs": [
    {
     "name": "stderr",
     "output_type": "stream",
     "text": [
      "Cloning into 'Tensorflow\\labelimg'...\n"
     ]
    }
   ],
   "source": [
    "# Clones labelImg repo\n",
    "if not os.path.exists(LABELIMG_PATH):\n",
    "    !mkdir {LABELIMG_PATH}\n",
    "    !git clone https://github.com/tzutalin/labelImg {LABELIMG_PATH}"
   ]
  },
  {
   "cell_type": "code",
   "execution_count": 7,
   "id": "5ae55ff7",
   "metadata": {},
   "outputs": [],
   "source": [
    "# Installs labelImg\n",
    "if os.name == 'posix':\n",
    "    !cd {LABELIMG_PATH} && make qt5py3\n",
    "if os.name =='nt':\n",
    "    !cd {LABELIMG_PATH} && pyrcc5 -o libs/resources.py resources.qrc"
   ]
  },
  {
   "cell_type": "code",
   "execution_count": null,
   "id": "c977f3fa",
   "metadata": {},
   "outputs": [],
   "source": [
    "# Opens \n",
    "!cd {LABELIMG_PATH} && python labelImg.py"
   ]
  }
 ],
 "metadata": {
  "kernelspec": {
   "display_name": "Python 3",
   "language": "python",
   "name": "python3"
  },
  "language_info": {
   "codemirror_mode": {
    "name": "ipython",
    "version": 3
   },
   "file_extension": ".py",
   "mimetype": "text/x-python",
   "name": "python",
   "nbconvert_exporter": "python",
   "pygments_lexer": "ipython3",
   "version": "3.6.8"
  }
 },
 "nbformat": 4,
 "nbformat_minor": 5
}
