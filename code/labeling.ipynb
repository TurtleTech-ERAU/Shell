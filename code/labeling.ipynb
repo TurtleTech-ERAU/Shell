{
 "cells": [
  {
   "cell_type": "markdown",
   "id": "140d2873",
   "metadata": {},
   "source": [
    "# For labeling images\n",
    "\n",
    "Step through the Python Notebook below. Currently, creates a series folder - 'Tensorflow/labelimg', clones the associated repo, installs, and opens labelImg.\n",
    "\n",
    "##### References:\n",
    "https://github.com/heartexlabs/labelImg"
   ]
  },
  {
   "cell_type": "code",
   "execution_count": 2,
   "id": "b5136d1d",
   "metadata": {},
   "outputs": [
    {
     "name": "stdout",
     "output_type": "stream",
     "text": [
      "Collecting pyqt5\n",
      "  Using cached PyQt5-5.15.7-cp37-abi3-win_amd64.whl (6.8 MB)\n",
      "Collecting lxml\n",
      "  Using cached lxml-4.9.1-cp310-cp310-win_amd64.whl (3.6 MB)\n",
      "Collecting PyQt5-sip<13,>=12.11\n",
      "  Downloading PyQt5_sip-12.11.0-cp310-cp310-win_amd64.whl (78 kB)\n",
      "     ---------------------------------------- 78.3/78.3 kB 2.1 MB/s eta 0:00:00\n",
      "Collecting PyQt5-Qt5>=5.15.0\n",
      "  Using cached PyQt5_Qt5-5.15.2-py3-none-win_amd64.whl (50.1 MB)\n",
      "Installing collected packages: PyQt5-Qt5, PyQt5-sip, lxml, pyqt5\n",
      "Successfully installed PyQt5-Qt5-5.15.2 PyQt5-sip-12.11.0 lxml-4.9.1 pyqt5-5.15.7\n"
     ]
    },
    {
     "name": "stderr",
     "output_type": "stream",
     "text": [
      "ERROR: pip's dependency resolver does not currently take into account all the packages that are installed. This behaviour is the source of the following dependency conflicts.\n",
      "object-detection 0.1 requires apache-beam, which is not installed.\n",
      "object-detection 0.1 requires avro-python3, which is not installed.\n",
      "object-detection 0.1 requires contextlib2, which is not installed.\n",
      "sacrebleu 2.2.0 requires portalocker, which is not installed.\n",
      "sacrebleu 2.2.0 requires regex, which is not installed.\n",
      "sacrebleu 2.2.0 requires tabulate>=0.8.9, which is not installed.\n",
      "tf-models-official 2.10.0 requires google-api-python-client>=1.6.7, which is not installed.\n",
      "tf-models-official 2.10.0 requires immutabledict, which is not installed.\n",
      "tf-models-official 2.10.0 requires kaggle>=1.3.9, which is not installed.\n",
      "tf-models-official 2.10.0 requires oauth2client, which is not installed.\n",
      "tf-models-official 2.10.0 requires opencv-python-headless==4.5.2.52, which is not installed.\n",
      "tf-models-official 2.10.0 requires py-cpuinfo>=3.3.0, which is not installed.\n",
      "tf-models-official 2.10.0 requires sentencepiece, which is not installed.\n",
      "tf-models-official 2.10.0 requires seqeval, which is not installed.\n",
      "tf-models-official 2.10.0 requires tensorflow-datasets, which is not installed.\n",
      "tf-models-official 2.10.0 requires tensorflow-hub>=0.6.0, which is not installed.\n",
      "tf-models-official 2.10.0 requires tensorflow-model-optimization>=0.4.1, which is not installed.\n",
      "tf-models-official 2.10.0 requires tensorflow-text~=2.10.0, which is not installed.\n",
      "object-detection 0.1 requires pyparsing==2.4.7, but you have pyparsing 3.0.9 which is incompatible.\n",
      "tf-models-official 2.10.0 requires pyyaml<6.0,>=5.1, but you have pyyaml 6.0 which is incompatible.\n"
     ]
    }
   ],
   "source": [
    "!pip install --upgrade pyqt5 lxml"
   ]
  },
  {
   "cell_type": "code",
   "execution_count": 3,
   "id": "4f9f310a",
   "metadata": {},
   "outputs": [],
   "source": [
    "import os"
   ]
  },
  {
   "cell_type": "code",
   "execution_count": 4,
   "id": "1c90279d",
   "metadata": {
    "scrolled": true
   },
   "outputs": [],
   "source": [
    "LABELIMG_PATH = os.path.join('Tensorflow', 'labelimg')"
   ]
  },
  {
   "cell_type": "code",
   "execution_count": 5,
   "id": "4b4a1811",
   "metadata": {},
   "outputs": [
    {
     "name": "stderr",
     "output_type": "stream",
     "text": [
      "Cloning into 'Tensorflow\\labelimg'...\n"
     ]
    }
   ],
   "source": [
    "# Clones labelImg repo\n",
    "if not os.path.exists(LABELIMG_PATH):\n",
    "    !mkdir {LABELIMG_PATH}\n",
    "    !git clone https://github.com/tzutalin/labelImg {LABELIMG_PATH}"
   ]
  },
  {
   "cell_type": "code",
   "execution_count": 6,
   "id": "5ae55ff7",
   "metadata": {},
   "outputs": [],
   "source": [
    "# Installs labelImg\n",
    "if os.name == 'posix':\n",
    "    !cd {LABELIMG_PATH} && make qt5py3\n",
    "if os.name =='nt':\n",
    "    !cd {LABELIMG_PATH} && pyrcc5 -o libs/resources.py resources.qrc"
   ]
  },
  {
   "cell_type": "code",
   "execution_count": 7,
   "id": "c977f3fa",
   "metadata": {},
   "outputs": [
    {
     "name": "stdout",
     "output_type": "stream",
     "text": [
      "Image:C:\\Users\\Will\\Desktop\\New folder\\scene00001.jpg -> Annotation:C:/Users/Will/Desktop/New folder\\scene00001.xml\n",
      "Image:C:\\Users\\Will\\Desktop\\New folder\\scene00101.jpg -> Annotation:C:/Users/Will/Desktop/New folder\\scene00101.xml\n",
      "Image:C:\\Users\\Will\\Desktop\\New folder\\scene00251.jpg -> Annotation:C:/Users/Will/Desktop/New folder\\scene00251.xml\n",
      "Image:C:\\Users\\Will\\Desktop\\New folder\\scene00301.jpg -> Annotation:C:/Users/Will/Desktop/New folder\\scene00301.xml\n",
      "Image:C:\\Users\\Will\\Desktop\\New folder\\scene00351.jpg -> Annotation:C:/Users/Will/Desktop/New folder\\scene00351.xml\n",
      "Image:C:\\Users\\Will\\Desktop\\New folder\\scene00401.jpg -> Annotation:C:/Users/Will/Desktop/New folder\\scene00401.xml\n",
      "Image:C:\\Users\\Will\\Desktop\\New folder\\scene00451.jpg -> Annotation:C:/Users/Will/Desktop/New folder\\scene00451.xml\n",
      "Image:C:\\Users\\Will\\Desktop\\New folder\\scene00501.jpg -> Annotation:C:/Users/Will/Desktop/New folder\\scene00501.xml\n",
      "Image:C:\\Users\\Will\\Desktop\\New folder\\scene00551.jpg -> Annotation:C:/Users/Will/Desktop/New folder\\scene00551.xml\n",
      "Image:C:\\Users\\Will\\Desktop\\New folder\\scene00601.jpg -> Annotation:C:/Users/Will/Desktop/New folder\\scene00601.xml\n",
      "Image:C:\\Users\\Will\\Desktop\\New folder\\scene00651.jpg -> Annotation:C:/Users/Will/Desktop/New folder\\scene00651.xml\n",
      "Image:C:\\Users\\Will\\Desktop\\New folder\\scene00701.jpg -> Annotation:C:/Users/Will/Desktop/New folder\\scene00701.xml\n",
      "Image:C:\\Users\\Will\\Desktop\\New folder\\scene00751.jpg -> Annotation:C:/Users/Will/Desktop/New folder\\scene00751.xml\n",
      "Image:C:\\Users\\Will\\Desktop\\New folder\\scene00851.jpg -> Annotation:C:/Users/Will/Desktop/New folder\\scene00851.xml\n",
      "Image:C:\\Users\\Will\\Desktop\\New folder\\scene00901.jpg -> Annotation:C:/Users/Will/Desktop/New folder\\scene00901.xml\n",
      "Image:C:\\Users\\Will\\Desktop\\New folder\\scene00951.jpg -> Annotation:C:/Users/Will/Desktop/New folder\\scene00951.xml\n",
      "Image:C:\\Users\\Will\\Desktop\\New folder\\scene01001.jpg -> Annotation:C:/Users/Will/Desktop/New folder\\scene01001.xml\n",
      "Image:C:\\Users\\Will\\Desktop\\New folder\\scene01051.jpg -> Annotation:C:/Users/Will/Desktop/New folder\\scene01051.xml\n",
      "Image:C:\\Users\\Will\\Desktop\\New folder\\scene01101.jpg -> Annotation:C:/Users/Will/Desktop/New folder\\scene01101.xml\n",
      "Image:C:\\Users\\Will\\Desktop\\New folder\\scene01151.jpg -> Annotation:C:/Users/Will/Desktop/New folder\\scene01151.xml\n",
      "Image:C:\\Users\\Will\\Desktop\\New folder\\scene01201.jpg -> Annotation:C:/Users/Will/Desktop/New folder\\scene01201.xml\n",
      "Image:C:\\Users\\Will\\Desktop\\New folder\\scene01251.jpg -> Annotation:C:/Users/Will/Desktop/New folder\\scene01251.xml\n",
      "Image:C:\\Users\\Will\\Desktop\\New folder\\scene01301.jpg -> Annotation:C:/Users/Will/Desktop/New folder\\scene01301.xml\n",
      "Image:C:\\Users\\Will\\Desktop\\New folder\\scene01351.jpg -> Annotation:C:/Users/Will/Desktop/New folder\\scene01351.xml\n",
      "Image:C:\\Users\\Will\\Desktop\\New folder\\scene01401.jpg -> Annotation:C:/Users/Will/Desktop/New folder\\scene01401.xml\n",
      "Image:C:\\Users\\Will\\Desktop\\New folder\\scene01451.jpg -> Annotation:C:/Users/Will/Desktop/New folder\\scene01451.xml\n",
      "Image:C:\\Users\\Will\\Desktop\\New folder\\scene01701.jpg -> Annotation:C:/Users/Will/Desktop/New folder\\scene01701.xml\n",
      "Image:C:\\Users\\Will\\Desktop\\New folder\\scene01751.jpg -> Annotation:C:/Users/Will/Desktop/New folder\\scene01751.xml\n",
      "Image:C:\\Users\\Will\\Desktop\\New folder\\scene01801.jpg -> Annotation:C:/Users/Will/Desktop/New folder\\scene01801.xml\n",
      "Image:C:\\Users\\Will\\Desktop\\New folder\\scene01901.jpg -> Annotation:C:/Users/Will/Desktop/New folder\\scene01901.xml\n",
      "Image:C:\\Users\\Will\\Desktop\\New folder\\scene01951.jpg -> Annotation:C:/Users/Will/Desktop/New folder\\scene01951.xml\n",
      "Image:C:\\Users\\Will\\Desktop\\New folder\\scene02001.jpg -> Annotation:C:/Users/Will/Desktop/New folder\\scene02001.xml\n",
      "Image:C:\\Users\\Will\\Desktop\\New folder\\scene02101.jpg -> Annotation:C:/Users/Will/Desktop/New folder\\scene02101.xml\n",
      "Image:C:\\Users\\Will\\Desktop\\New folder\\scene02201.jpg -> Annotation:C:/Users/Will/Desktop/New folder\\scene02201.xml\n",
      "Image:C:\\Users\\Will\\Desktop\\New folder\\scene02251.jpg -> Annotation:C:/Users/Will/Desktop/New folder\\scene02251.xml\n",
      "Image:C:\\Users\\Will\\Desktop\\New folder\\scene02351.jpg -> Annotation:C:/Users/Will/Desktop/New folder\\scene02351.xml\n",
      "Image:C:\\Users\\Will\\Desktop\\New folder\\scene02401.jpg -> Annotation:C:/Users/Will/Desktop/New folder\\scene02401.xml\n",
      "Image:C:\\Users\\Will\\Desktop\\New folder\\scene02501.jpg -> Annotation:C:/Users/Will/Desktop/New folder\\scene02501.xml\n",
      "Image:C:\\Users\\Will\\Desktop\\New folder\\scene02601.jpg -> Annotation:C:/Users/Will/Desktop/New folder\\scene02601.xml\n",
      "Image:C:\\Users\\Will\\Desktop\\New folder\\scene02651.jpg -> Annotation:C:/Users/Will/Desktop/New folder\\scene02651.xml\n"
     ]
    }
   ],
   "source": [
    "# Opens \n",
    "!cd {LABELIMG_PATH} && python labelImg.py"
   ]
  },
  {
   "cell_type": "code",
   "execution_count": null,
   "id": "71a712b5",
   "metadata": {},
   "outputs": [],
   "source": []
  }
 ],
 "metadata": {
  "kernelspec": {
   "display_name": "Python 3 (ipykernel)",
   "language": "python",
   "name": "python3"
  },
  "language_info": {
   "codemirror_mode": {
    "name": "ipython",
    "version": 3
   },
   "file_extension": ".py",
   "mimetype": "text/x-python",
   "name": "python",
   "nbconvert_exporter": "python",
   "pygments_lexer": "ipython3",
   "version": "3.10.7"
  }
 },
 "nbformat": 4,
 "nbformat_minor": 5
}
